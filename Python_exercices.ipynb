{
 "cells": [
  {
   "cell_type": "markdown",
   "metadata": {},
   "source": [
    "#### Basic if- else \n"
   ]
  },
  {
   "cell_type": "markdown",
   "metadata": {},
   "source": [
    "write a program that allow known if a student pass the asignature of programming, in order to do that you should take in account the following conditions:\n",
    "* 1- If the final note is equal o superior to 3.0 approve\n",
    "* 2- If the final note is below to 3.0 reprove"
   ]
  },
  {
   "cell_type": "code",
   "execution_count": 19,
   "metadata": {},
   "outputs": [
    {
     "name": "stdout",
     "output_type": "stream",
     "text": [
      "approve\n"
     ]
    }
   ],
   "source": [
    "final_note=4.0\n",
    "state= True\n",
    "if final_note >=3:\n",
    "    print(\"approve\")\n",
    "else:\n",
    "    print(\"reprove\")\n",
    " \n",
    "\n"
   ]
  },
  {
   "cell_type": "markdown",
   "metadata": {},
   "source": [
    "#### complex data "
   ]
  },
  {
   "cell_type": "markdown",
   "metadata": {},
   "source": [
    "* list: Ordered, accessed by index\n",
    "* Dictionary: Unordered, accessed by key"
   ]
  },
  {
   "cell_type": "markdown",
   "metadata": {},
   "source": [
    "#### Dictionary\n",
    "\n"
   ]
  },
  {
   "cell_type": "code",
   "execution_count": 63,
   "metadata": {},
   "outputs": [],
   "source": [
    "# access\n",
    "mi_dictionary={'name':'juan','age':30}\n",
    "\n",
    "#add/modific\n",
    "mi_dictionary['profession']='enginner'"
   ]
  },
  {
   "cell_type": "code",
   "execution_count": 21,
   "metadata": {},
   "outputs": [],
   "source": [
    "dictionary_2={'name':'Juan',\n",
    "              'age':20,\n",
    "              'direction':'calle 22 # 11-120',\n",
    "              }\n",
    "\n"
   ]
  },
  {
   "cell_type": "code",
   "execution_count": 22,
   "metadata": {},
   "outputs": [
    {
     "name": "stdout",
     "output_type": "stream",
     "text": [
      "Juan\n"
     ]
    }
   ],
   "source": [
    "Nombre=dictionary_2['name']\n",
    "print(Nombre)"
   ]
  },
  {
   "cell_type": "code",
   "execution_count": 23,
   "metadata": {},
   "outputs": [
    {
     "name": "stdout",
     "output_type": "stream",
     "text": [
      "{'name': 'Juan', 'age': 20, 'direction': 'calle 22 # 11-120', 'tel': '3104087153'}\n"
     ]
    }
   ],
   "source": [
    "## add new key\n",
    "dictionary_2['tel']='3104087153'\n",
    "print(dictionary_2)\n"
   ]
  },
  {
   "cell_type": "code",
   "execution_count": 62,
   "metadata": {},
   "outputs": [
    {
     "name": "stdout",
     "output_type": "stream",
     "text": [
      "his name is: Juan\n",
      "his telephone number is: 3104087153\n"
     ]
    }
   ],
   "source": [
    "## generate an output of data \n",
    "print(\"his name is:\",dictionary_2['name'])\n",
    "print(\"his telephone number is:\",dictionary_2['tel'])\n"
   ]
  },
  {
   "cell_type": "markdown",
   "metadata": {},
   "source": [
    "#### List\n"
   ]
  },
  {
   "cell_type": "code",
   "execution_count": 32,
   "metadata": {},
   "outputs": [],
   "source": [
    "Planets=[\"Venus\",\n",
    "         \"Earth\",\n",
    "         \"Mars\",\n",
    "         \"Jupiter\",\n",
    "         \"saturn\",\n",
    "         \"uranus\",\n",
    "         \"neptune\"\n",
    "]"
   ]
  },
  {
   "cell_type": "code",
   "execution_count": 33,
   "metadata": {},
   "outputs": [
    {
     "name": "stdout",
     "output_type": "stream",
     "text": [
      "Earth\n"
     ]
    }
   ],
   "source": [
    "my_planet=Planets[1]\n",
    "print(my_planet)"
   ]
  },
  {
   "cell_type": "code",
   "execution_count": 34,
   "metadata": {},
   "outputs": [
    {
     "name": "stdout",
     "output_type": "stream",
     "text": [
      "number of planets in the list are: 7\n"
     ]
    }
   ],
   "source": [
    "## lengh of the list\n",
    "number_planets=len(Planets)\n",
    "print(\"number of planets in the list are:\",number_planets)"
   ]
  },
  {
   "cell_type": "code",
   "execution_count": 38,
   "metadata": {},
   "outputs": [
    {
     "name": "stdout",
     "output_type": "stream",
     "text": [
      "['venus', 'earth', 'Mars', 'Jupiter', 'saturn', 'uranus', 'neptune']\n"
     ]
    }
   ],
   "source": [
    "Planets[0]=\"venus\"\n",
    "Planets[1]=\"earth\"\n",
    "print(Planets)"
   ]
  },
  {
   "cell_type": "code",
   "execution_count": 41,
   "metadata": {},
   "outputs": [
    {
     "name": "stdout",
     "output_type": "stream",
     "text": [
      "['venus', 'earth', 'Mars', 'Jupiter', 'saturn', 'uranus', 'neptune', 'Pluton', 'Pluton', 'Pluton']\n"
     ]
    }
   ],
   "source": [
    "## add elements to the list (append)\n",
    "Planets.append(\"Pluton\")\n",
    "print(Planets)"
   ]
  },
  {
   "cell_type": "code",
   "execution_count": 43,
   "metadata": {},
   "outputs": [
    {
     "name": "stdout",
     "output_type": "stream",
     "text": [
      "10\n"
     ]
    }
   ],
   "source": [
    "print(len(Planets))\n",
    "\n"
   ]
  },
  {
   "cell_type": "code",
   "execution_count": 51,
   "metadata": {},
   "outputs": [
    {
     "name": "stdout",
     "output_type": "stream",
     "text": [
      "['venus', 'earth', 'Mars', 'Jupiter', 'saturn', 'uranus', 'neptune', 'Pluton']\n"
     ]
    }
   ],
   "source": [
    "#delete elements in the list\n",
    "#Planets.pop(9)\n",
    "del Planets[8]\n",
    "print(Planets)"
   ]
  },
  {
   "cell_type": "code",
   "execution_count": 58,
   "metadata": {},
   "outputs": [
    {
     "name": "stdout",
     "output_type": "stream",
     "text": [
      "first planet is  venus\n",
      "the list of planets are: ['venus', 'earth', 'Mars', 'Jupiter', 'saturn', 'uranus', 'neptune', 'Pluton']\n",
      "the last element is: Pluton\n"
     ]
    }
   ],
   "source": [
    "##negative index\n",
    "print(\"first planet is \", Planets[0])\n",
    "print(\"the list of planets are:\", Planets[0:len(Planets)])\n",
    "print(\"the last element is:\", Planets[-1])"
   ]
  },
  {
   "cell_type": "code",
   "execution_count": 61,
   "metadata": {},
   "outputs": [
    {
     "name": "stdout",
     "output_type": "stream",
     "text": [
      "index of saturn is: 4 valor= saturn\n"
     ]
    }
   ],
   "source": [
    "## search by index\n",
    "index_saturn=Planets.index(\"saturn\")\n",
    "print(\"index of saturn is:\",index_saturn,\"valor=\",Planets[index_saturn])"
   ]
  },
  {
   "cell_type": "code",
   "execution_count": null,
   "metadata": {},
   "outputs": [],
   "source": []
  }
 ],
 "metadata": {
  "kernelspec": {
   "display_name": "Python 3",
   "language": "python",
   "name": "python3"
  },
  "language_info": {
   "codemirror_mode": {
    "name": "ipython",
    "version": 3
   },
   "file_extension": ".py",
   "mimetype": "text/x-python",
   "name": "python",
   "nbconvert_exporter": "python",
   "pygments_lexer": "ipython3",
   "version": "3.12.4"
  }
 },
 "nbformat": 4,
 "nbformat_minor": 2
}
